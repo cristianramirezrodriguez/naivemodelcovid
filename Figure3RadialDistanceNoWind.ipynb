{
  "nbformat": 4,
  "nbformat_minor": 0,
  "metadata": {
    "colab": {
      "provenance": [],
      "authorship_tag": "ABX9TyMcRGWmWdB7ogMyndQ9a+0e",
      "include_colab_link": true
    },
    "kernelspec": {
      "name": "python3",
      "display_name": "Python 3"
    },
    "language_info": {
      "name": "python"
    }
  },
  "cells": [
    {
      "cell_type": "markdown",
      "metadata": {
        "id": "view-in-github",
        "colab_type": "text"
      },
      "source": [
        "<a href=\"https://colab.research.google.com/github/cristianramirezrodriguez/naivemodelcovid/blob/main/Figure3RadialDistanceNoWind.ipynb\" target=\"_parent\"><img src=\"https://colab.research.google.com/assets/colab-badge.svg\" alt=\"Open In Colab\"/></a>"
      ]
    },
    {
      "cell_type": "markdown",
      "source": [
        "This python file contains the code written by Cristian Ramirez Rodriguez in 2020 used to generate figure 3 for the article \"A Naive Model of Covid-19 Spread From A Dry Cough.\""
      ],
      "metadata": {
        "id": "q2NkIDchcy3r"
      }
    },
    {
      "cell_type": "code",
      "execution_count": null,
      "metadata": {
        "id": "kLtk7tSZaQuM"
      },
      "outputs": [],
      "source": [
        "import numpy as np\n",
        "import random as rand\n",
        "import scipy.integrate as sint\n",
        "import matplotlib.pyplot as plt\n",
        "\n",
        "#Frequently Used Constants\n",
        "k = 1.38064852 * 10**-23 #BoltzMann Cst\n",
        "T = 20 + 273.15 #20 degrees celsius\n",
        "M = 28.02/1000 #Molar Mass of Nitrogen\n",
        "Na = 6.02214076*10**23 #Avogrado\n",
        "ma = M/Na #Mass of Air\n",
        "va = ((3*k*T)/ma)**0.5 #Average Speed per Collision\n",
        "delva = 2*va\n",
        "delt = 10**-10 #time per collision\n",
        "Favg = (ma*delva)/delt #avg force per collision\n",
        "vis = 1.81*10**-5 #viscocity of air\n",
        "r = 5 * 10**-8 #radius of virus\n",
        "cst = -6*r*vis*np.pi #constant\n",
        "mc = 10**-18 #mass of virus\n",
        "windspeed = 1 #m/s, roughly 4km/hr"
      ]
    },
    {
      "cell_type": "code",
      "source": [
        "#Code for Figure 3 Radial No Wind\n",
        "radpositions = []\n",
        "xpositions = []\n",
        "ypositions = []\n",
        "for n in range(3000):\n",
        "    xvelocity = []\n",
        "    yvelocity = []\n",
        "    vx = 22\n",
        "    vy = 0\n",
        "    t = 0\n",
        "    randomforce = 0\n",
        "    timing = []\n",
        "    for step in range(0,N-1):\n",
        "        timing.append(t)\n",
        "        xvelocity.append(vx)\n",
        "        yvelocity.append(vy)\n",
        "        theta = (rand.randrange(0,360,1)*np.pi)/180\n",
        "        vx = 22*np.exp((cst/mc)*t)+(randomforce/(-cst))*np.cos(theta)\n",
        "        vy = (randomforce/(-cst))*np.sin(theta)\n",
        "        t = t+10**-4\n",
        "        ran=rand.random()\n",
        "        if ran<p:\n",
        "            randomforce=randomforce+(Favg)\n",
        "        else:\n",
        "            randomforce=randomforce-(Favg)\n",
        "    x = sint.simps(xvelocity,timing)\n",
        "    y = sint.simps(yvelocity,timing)\n",
        "    r = np.sqrt(x**2+y**2)\n",
        "    xpositions.append(x)\n",
        "    ypositions.append(y)\n",
        "    radpositions.append(r)"
      ],
      "metadata": {
        "id": "tm1K1fwLeMEL"
      },
      "execution_count": null,
      "outputs": []
    },
    {
      "cell_type": "code",
      "source": [
        "import matplotlib.pyplot as plt\n",
        "font = {'family' : 'Times',\n",
        "        'weight' : 'bold',\n",
        "        'size'   : 15}\n",
        "nbins = 10\n",
        "minValue = min(radpositions)\n",
        "maxValue = max(radpositions)\n",
        "bins = np.linspace(minValue,maxValue,nbins+1)\n",
        "plt.figure(figsize=(8,6),dpi=300)\n",
        "plt.hist(np.array(radpositions),bins, edgecolor='black', color='purple')\n",
        "plt.xlabel('Radial Distance (m)',**font)\n",
        "plt.ylabel('Number of Particles',**font)\n",
        "plt.title('Radial Distance From Person (No Wind), N=3000, t=1s',**font)\n",
        "plt.savefig('Figure3Histogram.png')"
      ],
      "metadata": {
        "id": "vld67D4Lfz0-"
      },
      "execution_count": null,
      "outputs": []
    }
  ]
}